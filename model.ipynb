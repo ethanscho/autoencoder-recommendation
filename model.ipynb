{
 "cells": [
  {
   "cell_type": "code",
   "execution_count": 50,
   "metadata": {},
   "outputs": [],
   "source": [
    "import os\n",
    "import numpy as np\n",
    "import pandas as pd"
   ]
  },
  {
   "cell_type": "code",
   "execution_count": 41,
   "metadata": {},
   "outputs": [],
   "source": [
    "from sklearn.model_selection import train_test_split"
   ]
  },
  {
   "cell_type": "code",
   "execution_count": 29,
   "metadata": {},
   "outputs": [],
   "source": [
    "BASE_DIR = 'data'\n",
    "\n",
    "RATINGS_CSV = 'ratings.csv'\n",
    "USERS_CSV = 'users.csv'\n",
    "MOVIES_CSV = 'movies.csv'"
   ]
  },
  {
   "cell_type": "code",
   "execution_count": 20,
   "metadata": {},
   "outputs": [],
   "source": [
    "ratings = pd.read_csv(os.path.join(BASE_DIR, RATINGS_CSV))"
   ]
  },
  {
   "cell_type": "code",
   "execution_count": 27,
   "metadata": {},
   "outputs": [],
   "source": [
    "users = pd.read_csv(os.path.join(BASE_DIR, USERS_CSV))"
   ]
  },
  {
   "cell_type": "code",
   "execution_count": 88,
   "metadata": {},
   "outputs": [],
   "source": [
    "num_users = users.userid.max()"
   ]
  },
  {
   "cell_type": "code",
   "execution_count": 30,
   "metadata": {},
   "outputs": [],
   "source": [
    "movies = pd.read_csv(os.path.join(BASE_DIR, MOVIES_CSV))"
   ]
  },
  {
   "cell_type": "code",
   "execution_count": 86,
   "metadata": {},
   "outputs": [],
   "source": [
    "num_movies = movies.movieid.max()"
   ]
  },
  {
   "cell_type": "code",
   "execution_count": 89,
   "metadata": {},
   "outputs": [
    {
     "data": {
      "text/plain": [
       "(6040, 3952)"
      ]
     },
     "execution_count": 89,
     "metadata": {},
     "output_type": "execute_result"
    }
   ],
   "source": [
    "num_users, num_movies"
   ]
  },
  {
   "cell_type": "code",
   "execution_count": 43,
   "metadata": {},
   "outputs": [],
   "source": [
    "train_df, test_df = train_test_split(ratings,\n",
    "                                     stratify=ratings['userid'],\n",
    "                                     test_size=0.1,\n",
    "                                     random_state=1)"
   ]
  },
  {
   "cell_type": "code",
   "execution_count": 46,
   "metadata": {},
   "outputs": [
    {
     "data": {
      "text/plain": [
       "(900188, 100021)"
      ]
     },
     "execution_count": 46,
     "metadata": {},
     "output_type": "execute_result"
    }
   ],
   "source": [
    "len(train_df), len(test_df)"
   ]
  },
  {
   "cell_type": "code",
   "execution_count": 90,
   "metadata": {},
   "outputs": [],
   "source": [
    "train_np = np.zeros((num_users, num_movies))"
   ]
  },
  {
   "cell_type": "code",
   "execution_count": 92,
   "metadata": {},
   "outputs": [],
   "source": [
    "for (_, _, userid, movieid, rating) in ratings.itertuples():\n",
    "    train_np[userid - 1, movieid - 1] = rating"
   ]
  },
  {
   "cell_type": "code",
   "execution_count": 93,
   "metadata": {},
   "outputs": [
    {
     "data": {
      "text/plain": [
       "(6040, 3952)"
      ]
     },
     "execution_count": 93,
     "metadata": {},
     "output_type": "execute_result"
    }
   ],
   "source": [
    "train_np.shape"
   ]
  },
  {
   "cell_type": "markdown",
   "metadata": {},
   "source": [
    "## Model"
   ]
  },
  {
   "cell_type": "code",
   "execution_count": 119,
   "metadata": {},
   "outputs": [],
   "source": [
    "import keras\n",
    "from keras import backend as K\n",
    "from keras import Input, Model\n",
    "from keras import regularizers\n",
    "from keras.layers import Dense\n",
    "from keras.regularizers import l2\n",
    "from keras.optimizers import Adam, RMSprop"
   ]
  },
  {
   "cell_type": "code",
   "execution_count": 117,
   "metadata": {},
   "outputs": [],
   "source": [
    "def masked_rmse(y_true, y_pred):\n",
    "    # masked function\n",
    "    mask_true = K.cast(K.not_equal(y_true, 0), K.floatx())\n",
    "    # masked squared error\n",
    "    masked_squared_error = K.square(mask_true * (y_true - y_pred))\n",
    "    masked_mse = K.sqrt(K.sum(masked_squared_error, axis=-1) / K.maximum(K.sum(mask_true, axis=-1), 1))\n",
    "    return masked_mse"
   ]
  },
  {
   "cell_type": "code",
   "execution_count": 137,
   "metadata": {},
   "outputs": [
    {
     "data": {
      "text/plain": [
       "array([1.4142135], dtype=float32)"
      ]
     },
     "execution_count": 137,
     "metadata": {},
     "output_type": "execute_result"
    }
   ],
   "source": [
    "# test masked rmse loss\n",
    "y_true = K.constant([[ 0, 0, 1, 1]])\n",
    "y_pred = K.constant([[ 1, 1, 1, 3]])\n",
    "\n",
    "true = K.eval(y_true)\n",
    "pred = K.eval(y_pred)\n",
    "\n",
    "K.eval(masked_rmse(y_true, y_pred))\n"
   ]
  },
  {
   "cell_type": "code",
   "execution_count": 122,
   "metadata": {},
   "outputs": [],
   "source": [
    "inputs = Input(shape=(train_np.shape[1],), name='UserRating')\n",
    "x = Dense(500, activation='relu', name='LatentSpace', kernel_regularizer=regularizers.l2(0.0005))(inputs)\n",
    "outputs = Dense(train_np.shape[1], activation='relu', name='UserScorePred', kernel_regularizer=regularizers.l2(0.0005))(x)\n",
    "model = Model(inputs, outputs)"
   ]
  },
  {
   "cell_type": "code",
   "execution_count": 123,
   "metadata": {},
   "outputs": [
    {
     "name": "stdout",
     "output_type": "stream",
     "text": [
      "_________________________________________________________________\n",
      "Layer (type)                 Output Shape              Param #   \n",
      "=================================================================\n",
      "UserRating (InputLayer)      (None, 3952)              0         \n",
      "_________________________________________________________________\n",
      "LatentSpace (Dense)          (None, 500)               1976500   \n",
      "_________________________________________________________________\n",
      "UserScorePred (Dense)        (None, 3952)              1979952   \n",
      "=================================================================\n",
      "Total params: 3,956,452\n",
      "Trainable params: 3,956,452\n",
      "Non-trainable params: 0\n",
      "_________________________________________________________________\n"
     ]
    }
   ],
   "source": [
    "model.summary()"
   ]
  },
  {
   "cell_type": "code",
   "execution_count": 124,
   "metadata": {},
   "outputs": [],
   "source": [
    "model.compile(optimizer = Adam(lr=0.0001), loss=masked_rmse)"
   ]
  },
  {
   "cell_type": "markdown",
   "metadata": {},
   "source": [
    "## Training"
   ]
  },
  {
   "cell_type": "code",
   "execution_count": 125,
   "metadata": {},
   "outputs": [
    {
     "name": "stdout",
     "output_type": "stream",
     "text": [
      "Train on 5436 samples, validate on 604 samples\n",
      "Epoch 1/50\n",
      " - 1s - loss: 4.3544 - val_loss: 3.8809\n",
      "Epoch 2/50\n",
      " - 0s - loss: 3.5666 - val_loss: 3.2338\n",
      "Epoch 3/50\n",
      " - 0s - loss: 3.1312 - val_loss: 2.8904\n",
      "Epoch 4/50\n",
      " - 0s - loss: 2.7884 - val_loss: 2.5939\n",
      "Epoch 5/50\n",
      " - 0s - loss: 2.5368 - val_loss: 2.4116\n",
      "Epoch 6/50\n",
      " - 0s - loss: 2.3591 - val_loss: 2.2858\n",
      "Epoch 7/50\n",
      " - 0s - loss: 2.2140 - val_loss: 2.1901\n",
      "Epoch 8/50\n",
      " - 0s - loss: 2.0976 - val_loss: 2.1143\n",
      "Epoch 9/50\n",
      " - 0s - loss: 2.0024 - val_loss: 2.0472\n",
      "Epoch 10/50\n",
      " - 0s - loss: 1.9195 - val_loss: 1.9884\n",
      "Epoch 11/50\n",
      " - 0s - loss: 1.8511 - val_loss: 1.9416\n",
      "Epoch 12/50\n",
      " - 0s - loss: 1.7913 - val_loss: 1.9008\n",
      "Epoch 13/50\n",
      " - 0s - loss: 1.7395 - val_loss: 1.8650\n",
      "Epoch 14/50\n",
      " - 0s - loss: 1.6932 - val_loss: 1.8367\n",
      "Epoch 15/50\n",
      " - 0s - loss: 1.6511 - val_loss: 1.8132\n",
      "Epoch 16/50\n",
      " - 0s - loss: 1.6140 - val_loss: 1.7856\n",
      "Epoch 17/50\n",
      " - 0s - loss: 1.5798 - val_loss: 1.7640\n",
      "Epoch 18/50\n",
      " - 0s - loss: 1.5488 - val_loss: 1.7472\n",
      "Epoch 19/50\n",
      " - 0s - loss: 1.5189 - val_loss: 1.7276\n",
      "Epoch 20/50\n",
      " - 0s - loss: 1.4916 - val_loss: 1.7119\n",
      "Epoch 21/50\n",
      " - 0s - loss: 1.4670 - val_loss: 1.6982\n",
      "Epoch 22/50\n",
      " - 0s - loss: 1.4437 - val_loss: 1.6844\n",
      "Epoch 23/50\n",
      " - 0s - loss: 1.4224 - val_loss: 1.6719\n",
      "Epoch 24/50\n",
      " - 0s - loss: 1.4020 - val_loss: 1.6619\n",
      "Epoch 25/50\n",
      " - 0s - loss: 1.3831 - val_loss: 1.6502\n",
      "Epoch 26/50\n",
      " - 0s - loss: 1.3654 - val_loss: 1.6423\n",
      "Epoch 27/50\n",
      " - 0s - loss: 1.3487 - val_loss: 1.6325\n",
      "Epoch 28/50\n",
      " - 0s - loss: 1.3324 - val_loss: 1.6215\n",
      "Epoch 29/50\n",
      " - 0s - loss: 1.3164 - val_loss: 1.6117\n",
      "Epoch 30/50\n",
      " - 0s - loss: 1.2958 - val_loss: 1.6006\n",
      "Epoch 31/50\n",
      " - 0s - loss: 1.2813 - val_loss: 1.5923\n",
      "Epoch 32/50\n",
      " - 0s - loss: 1.2680 - val_loss: 1.5857\n",
      "Epoch 33/50\n",
      " - 0s - loss: 1.2553 - val_loss: 1.5803\n",
      "Epoch 34/50\n",
      " - 0s - loss: 1.2425 - val_loss: 1.5713\n",
      "Epoch 35/50\n",
      " - 0s - loss: 1.2308 - val_loss: 1.5654\n",
      "Epoch 36/50\n",
      " - 0s - loss: 1.2199 - val_loss: 1.5591\n",
      "Epoch 37/50\n",
      " - 0s - loss: 1.2086 - val_loss: 1.5538\n",
      "Epoch 38/50\n",
      " - 0s - loss: 1.1986 - val_loss: 1.5467\n",
      "Epoch 39/50\n",
      " - 0s - loss: 1.1888 - val_loss: 1.5417\n",
      "Epoch 40/50\n",
      " - 0s - loss: 1.1787 - val_loss: 1.5358\n",
      "Epoch 41/50\n",
      " - 0s - loss: 1.1697 - val_loss: 1.5322\n",
      "Epoch 42/50\n",
      " - 0s - loss: 1.1605 - val_loss: 1.5246\n",
      "Epoch 43/50\n",
      " - 0s - loss: 1.1474 - val_loss: 1.5188\n",
      "Epoch 44/50\n",
      " - 0s - loss: 1.1388 - val_loss: 1.5141\n",
      "Epoch 45/50\n",
      " - 0s - loss: 1.1284 - val_loss: 1.5050\n",
      "Epoch 46/50\n",
      " - 0s - loss: 1.1165 - val_loss: 1.4981\n",
      "Epoch 47/50\n",
      " - 0s - loss: 1.1083 - val_loss: 1.4944\n",
      "Epoch 48/50\n",
      " - 0s - loss: 1.1012 - val_loss: 1.4900\n",
      "Epoch 49/50\n",
      " - 0s - loss: 1.0943 - val_loss: 1.4857\n",
      "Epoch 50/50\n",
      " - 0s - loss: 1.0877 - val_loss: 1.4827\n"
     ]
    }
   ],
   "source": [
    "train_hist = model.fit(x=train_np, y=train_np,\n",
    "                  epochs=50,\n",
    "                  batch_size=256,\n",
    "                  verbose = 2, \n",
    "                  validation_split=0.1)"
   ]
  },
  {
   "cell_type": "code",
   "execution_count": 126,
   "metadata": {},
   "outputs": [],
   "source": [
    "import matplotlib.pyplot as plt"
   ]
  },
  {
   "cell_type": "code",
   "execution_count": 128,
   "metadata": {},
   "outputs": [],
   "source": [
    "def show_rmse(history, skip):\n",
    "    rmse = history.history['loss']\n",
    "    val_rmse = history.history['val_loss']\n",
    "    plt.plot(np.arange(skip, len(rmse), 1), rmse[skip:])\n",
    "    plt.plot(np.arange(skip, len(val_rmse), 1), val_rmse[skip:])\n",
    "    plt.title('model train vs validation masked_rmse')\n",
    "    plt.ylabel('rmse')\n",
    "    plt.xlabel('epoch')\n",
    "    plt.legend(['train', 'validation'], loc='best')\n",
    "    plt.show()"
   ]
  },
  {
   "cell_type": "code",
   "execution_count": 129,
   "metadata": {},
   "outputs": [
    {
     "data": {
      "image/png": "[encoded data removed]",
      "text/plain": [
       "<matplotlib.figure.Figure at 0x23e73bde080>"
      ]
     },
     "metadata": {},
     "output_type": "display_data"
    }
   ],
   "source": [
    "show_rmse(train_hist, 0)"
   ]
  },
  {
   "cell_type": "code",
   "execution_count": 130,
   "metadata": {},
   "outputs": [],
   "source": [
    "pred = model.predict(train_np)"
   ]
  },
  {
   "cell_type": "code",
   "execution_count": 136,
   "metadata": {},
   "outputs": [
    {
     "data": {
      "text/plain": [
       "array([4.8681393, 3.0010002, 3.4693606, ..., 2.939014 , 3.2252648,\n",
       "       3.840281 ], dtype=float32)"
      ]
     },
     "execution_count": 136,
     "metadata": {},
     "output_type": "execute_result"
    }
   ],
   "source": [
    "pred[0]"
   ]
  },
  {
   "cell_type": "code",
   "execution_count": 135,
   "metadata": {},
   "outputs": [
    {
     "data": {
      "text/plain": [
       "array([5., 0., 0., ..., 0., 0., 0.])"
      ]
     },
     "execution_count": 135,
     "metadata": {},
     "output_type": "execute_result"
    }
   ],
   "source": [
    "train_np[0]"
   ]
  },
  {
   "cell_type": "code",
   "execution_count": null,
   "metadata": {},
   "outputs": [],
   "source": []
  }
 ],
 "metadata": {
  "kernelspec": {
   "display_name": "Python 3",
   "language": "python",
   "name": "python3"
  },
  "language_info": {
   "codemirror_mode": {
    "name": "ipython",
    "version": 3
   },
   "file_extension": ".py",
   "mimetype": "text/x-python",
   "name": "python",
   "nbconvert_exporter": "python",
   "pygments_lexer": "ipython3",
   "version": "3.6.4"
  }
 },
 "nbformat": 4,
 "nbformat_minor": 2
}
