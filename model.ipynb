{
 "cells": [
  {
   "cell_type": "code",
   "execution_count": 50,
   "metadata": {},
   "outputs": [],
   "source": [
    "import os\n",
    "import numpy as np\n",
    "import pandas as pd"
   ]
  },
  {
   "cell_type": "code",
   "execution_count": 41,
   "metadata": {},
   "outputs": [],
   "source": [
    "from sklearn.model_selection import train_test_split"
   ]
  },
  {
   "cell_type": "code",
   "execution_count": 29,
   "metadata": {},
   "outputs": [],
   "source": [
    "BASE_DIR = 'data'\n",
    "\n",
    "RATINGS_CSV = 'ratings.csv'\n",
    "USERS_CSV = 'users.csv'\n",
    "MOVIES_CSV = 'movies.csv'"
   ]
  },
  {
   "cell_type": "code",
   "execution_count": 20,
   "metadata": {},
   "outputs": [],
   "source": [
    "ratings = pd.read_csv(os.path.join(BASE_DIR, RATINGS_CSV))"
   ]
  },
  {
   "cell_type": "code",
   "execution_count": 27,
   "metadata": {},
   "outputs": [],
   "source": [
    "users = pd.read_csv(os.path.join(BASE_DIR, USERS_CSV))"
   ]
  },
  {
   "cell_type": "code",
   "execution_count": 88,
   "metadata": {},
   "outputs": [],
   "source": [
    "num_users = users.userid.max()"
   ]
  },
  {
   "cell_type": "code",
   "execution_count": 30,
   "metadata": {},
   "outputs": [],
   "source": [
    "movies = pd.read_csv(os.path.join(BASE_DIR, MOVIES_CSV))"
   ]
  },
  {
   "cell_type": "code",
   "execution_count": 86,
   "metadata": {},
   "outputs": [],
   "source": [
    "num_movies = movies.movieid.max()"
   ]
  },
  {
   "cell_type": "code",
   "execution_count": 89,
   "metadata": {},
   "outputs": [
    {
     "data": {
      "text/plain": [
       "(6040, 3952)"
      ]
     },
     "execution_count": 89,
     "metadata": {},
     "output_type": "execute_result"
    }
   ],
   "source": [
    "num_users, num_movies"
   ]
  },
  {
   "cell_type": "code",
   "execution_count": 43,
   "metadata": {},
   "outputs": [],
   "source": [
    "train_df, test_df = train_test_split(ratings,\n",
    "                                     stratify=ratings['userid'],\n",
    "                                     test_size=0.1,\n",
    "                                     random_state=1)"
   ]
  },
  {
   "cell_type": "code",
   "execution_count": 46,
   "metadata": {},
   "outputs": [
    {
     "data": {
      "text/plain": [
       "(900188, 100021)"
      ]
     },
     "execution_count": 46,
     "metadata": {},
     "output_type": "execute_result"
    }
   ],
   "source": [
    "len(train_df), len(test_df)"
   ]
  },
  {
   "cell_type": "code",
   "execution_count": 90,
   "metadata": {},
   "outputs": [],
   "source": [
    "train_np = np.zeros((num_users, num_movies))"
   ]
  },
  {
   "cell_type": "code",
   "execution_count": 92,
   "metadata": {},
   "outputs": [],
   "source": [
    "for (_, _, userid, movieid, rating) in ratings.itertuples():\n",
    "    train_np[userid - 1, movieid - 1] = rating"
   ]
  },
  {
   "cell_type": "code",
   "execution_count": 93,
   "metadata": {},
   "outputs": [
    {
     "data": {
      "text/plain": [
       "(6040, 3952)"
      ]
     },
     "execution_count": 93,
     "metadata": {},
     "output_type": "execute_result"
    }
   ],
   "source": [
    "train_np.shape"
   ]
  },
  {
   "cell_type": "markdown",
   "metadata": {},
   "source": [
    "## Model"
   ]
  },
  {
   "cell_type": "code",
   "execution_count": 94,
   "metadata": {},
   "outputs": [],
   "source": [
    "import keras\n",
    "from keras import Input, Model\n",
    "from keras import regularizers\n",
    "from keras.layers import Dense\n",
    "from keras.regularizers import l2\n",
    "from keras.optimizers import Adam, RMSprop"
   ]
  },
  {
   "cell_type": "code",
   "execution_count": 95,
   "metadata": {},
   "outputs": [],
   "source": [
    "inputs = Input(shape=(train_np.shape[1],), name='UserRating')\n",
    "x = Dense(500, activation='relu', name='LatentSpace', kernel_regularizer=regularizers.l2(0.0005))(inputs)\n",
    "outputs = Dense(train_np.shape[1], activation='relu', name='UserScorePred', kernel_regularizer=regularizers.l2(0.0005))(x)\n",
    "model = Model(inputs, outputs)"
   ]
  },
  {
   "cell_type": "code",
   "execution_count": 96,
   "metadata": {},
   "outputs": [
    {
     "name": "stdout",
     "output_type": "stream",
     "text": [
      "_________________________________________________________________\n",
      "Layer (type)                 Output Shape              Param #   \n",
      "=================================================================\n",
      "UserRating (InputLayer)      (None, 3952)              0         \n",
      "_________________________________________________________________\n",
      "LatentSpace (Dense)          (None, 500)               1976500   \n",
      "_________________________________________________________________\n",
      "UserScorePred (Dense)        (None, 3952)              1979952   \n",
      "=================================================================\n",
      "Total params: 3,956,452\n",
      "Trainable params: 3,956,452\n",
      "Non-trainable params: 0\n",
      "_________________________________________________________________\n"
     ]
    }
   ],
   "source": [
    "model.summary()"
   ]
  },
  {
   "cell_type": "code",
   "execution_count": 97,
   "metadata": {},
   "outputs": [],
   "source": [
    "model.compile(optimizer = Adam(lr=0.0001), loss=keras.metrics.mean_squared_error)"
   ]
  },
  {
   "cell_type": "markdown",
   "metadata": {},
   "source": [
    "## Training"
   ]
  },
  {
   "cell_type": "code",
   "execution_count": 112,
   "metadata": {},
   "outputs": [
    {
     "name": "stdout",
     "output_type": "stream",
     "text": [
      "Train on 5436 samples, validate on 604 samples\n",
      "Epoch 1/50\n",
      " - 0s - loss: 0.7988 - val_loss: 0.7804\n",
      "Epoch 2/50\n",
      " - 0s - loss: 0.7312 - val_loss: 0.7199\n",
      "Epoch 3/50\n",
      " - 0s - loss: 0.6741 - val_loss: 0.6693\n",
      "Epoch 4/50\n",
      " - 0s - loss: 0.6263 - val_loss: 0.6267\n",
      "Epoch 5/50\n",
      " - 0s - loss: 0.5862 - val_loss: 0.5911\n",
      "Epoch 6/50\n",
      " - 0s - loss: 0.5528 - val_loss: 0.5611\n",
      "Epoch 7/50\n",
      " - 0s - loss: 0.5244 - val_loss: 0.5355\n",
      "Epoch 8/50\n",
      " - 0s - loss: 0.5003 - val_loss: 0.5137\n",
      "Epoch 9/50\n",
      " - 0s - loss: 0.4799 - val_loss: 0.4956\n",
      "Epoch 10/50\n",
      " - 0s - loss: 0.4628 - val_loss: 0.4801\n",
      "Epoch 11/50\n",
      " - 0s - loss: 0.4482 - val_loss: 0.4670\n",
      "Epoch 12/50\n",
      " - 0s - loss: 0.4352 - val_loss: 0.4556\n",
      "Epoch 13/50\n",
      " - 0s - loss: 0.4244 - val_loss: 0.4462\n",
      "Epoch 14/50\n",
      " - 0s - loss: 0.4154 - val_loss: 0.4372\n",
      "Epoch 15/50\n",
      " - 0s - loss: 0.4073 - val_loss: 0.4306\n",
      "Epoch 16/50\n",
      " - 0s - loss: 0.4006 - val_loss: 0.4247\n",
      "Epoch 17/50\n",
      " - 0s - loss: 0.3947 - val_loss: 0.4193\n",
      "Epoch 18/50\n",
      " - 0s - loss: 0.3898 - val_loss: 0.4148\n",
      "Epoch 19/50\n",
      " - 0s - loss: 0.3852 - val_loss: 0.4112\n",
      "Epoch 20/50\n",
      " - 0s - loss: 0.3811 - val_loss: 0.4077\n",
      "Epoch 21/50\n",
      " - 0s - loss: 0.3778 - val_loss: 0.4045\n",
      "Epoch 22/50\n",
      " - 0s - loss: 0.3748 - val_loss: 0.4019\n",
      "Epoch 23/50\n",
      " - 0s - loss: 0.3719 - val_loss: 0.3992\n",
      "Epoch 24/50\n",
      " - 0s - loss: 0.3695 - val_loss: 0.3971\n",
      "Epoch 25/50\n",
      " - 0s - loss: 0.3673 - val_loss: 0.3952\n",
      "Epoch 26/50\n",
      " - 0s - loss: 0.3654 - val_loss: 0.3937\n",
      "Epoch 27/50\n",
      " - 0s - loss: 0.3637 - val_loss: 0.3918\n",
      "Epoch 28/50\n",
      " - 0s - loss: 0.3622 - val_loss: 0.3909\n",
      "Epoch 29/50\n",
      " - 0s - loss: 0.3604 - val_loss: 0.3895\n",
      "Epoch 30/50\n",
      " - 0s - loss: 0.3592 - val_loss: 0.3882\n",
      "Epoch 31/50\n",
      " - 0s - loss: 0.3578 - val_loss: 0.3870\n",
      "Epoch 32/50\n",
      " - 0s - loss: 0.3562 - val_loss: 0.3854\n",
      "Epoch 33/50\n",
      " - 0s - loss: 0.3550 - val_loss: 0.3845\n",
      "Epoch 34/50\n",
      " - 0s - loss: 0.3541 - val_loss: 0.3837\n",
      "Epoch 35/50\n",
      " - 0s - loss: 0.3529 - val_loss: 0.3828\n",
      "Epoch 36/50\n",
      " - 0s - loss: 0.3521 - val_loss: 0.3818\n",
      "Epoch 37/50\n",
      " - 0s - loss: 0.3512 - val_loss: 0.3812\n",
      "Epoch 38/50\n",
      " - 0s - loss: 0.3506 - val_loss: 0.3810\n",
      "Epoch 39/50\n",
      " - 0s - loss: 0.3499 - val_loss: 0.3804\n",
      "Epoch 40/50\n",
      " - 0s - loss: 0.3491 - val_loss: 0.3797\n",
      "Epoch 41/50\n",
      " - 0s - loss: 0.3484 - val_loss: 0.3790\n",
      "Epoch 42/50\n",
      " - 0s - loss: 0.3478 - val_loss: 0.3785\n",
      "Epoch 43/50\n",
      " - 0s - loss: 0.3475 - val_loss: 0.3780\n",
      "Epoch 44/50\n",
      " - 0s - loss: 0.3470 - val_loss: 0.3779\n",
      "Epoch 45/50\n",
      " - 0s - loss: 0.3467 - val_loss: 0.3776\n",
      "Epoch 46/50\n",
      " - 0s - loss: 0.3461 - val_loss: 0.3772\n",
      "Epoch 47/50\n",
      " - 0s - loss: 0.3456 - val_loss: 0.3765\n",
      "Epoch 48/50\n",
      " - 0s - loss: 0.3454 - val_loss: 0.3764\n",
      "Epoch 49/50\n",
      " - 0s - loss: 0.3449 - val_loss: 0.3761\n",
      "Epoch 50/50\n",
      " - 0s - loss: 0.3445 - val_loss: 0.3759\n"
     ]
    }
   ],
   "source": [
    "train_hist = model.fit(x=train_np, y=train_np,\n",
    "                  epochs=50,\n",
    "                  batch_size=256,\n",
    "                  verbose = 2, \n",
    "                  validation_split=0.1)"
   ]
  },
  {
   "cell_type": "code",
   "execution_count": 104,
   "metadata": {},
   "outputs": [],
   "source": [
    "import matplotlib.pyplot as plt"
   ]
  },
  {
   "cell_type": "code",
   "execution_count": 108,
   "metadata": {},
   "outputs": [
    {
     "data": {
      "text/plain": [
       "{'loss': [1.3854162343904497,\n",
       "  1.2045227656739876,\n",
       "  1.076343907864327,\n",
       "  0.9708240720785393,\n",
       "  0.8784430358144972],\n",
       " 'val_loss': [1.2937550978944792,\n",
       "  1.145411485078319,\n",
       "  1.0340325121848,\n",
       "  0.9366171466593711,\n",
       "  0.8521419743828426]}"
      ]
     },
     "execution_count": 108,
     "metadata": {},
     "output_type": "execute_result"
    }
   ],
   "source": [
    "train_hist.history"
   ]
  },
  {
   "cell_type": "code",
   "execution_count": 113,
   "metadata": {},
   "outputs": [],
   "source": [
    "def show_rmse(history, skip):\n",
    "    rmse = history.history['loss']\n",
    "    val_rmse = history.history['val_loss']\n",
    "    plt.plot(np.arange(skip, len(rmse), 1), rmse[skip:])\n",
    "    plt.plot(np.arange(skip, len(val_rmse), 1), val_rmse[skip:])\n",
    "    plt.title('model train vs validation masked_rmse')\n",
    "    plt.ylabel('rmse')\n",
    "    plt.xlabel('epoch')\n",
    "    plt.legend(['train', 'validation'], loc='best')\n",
    "    plt.show()"
   ]
  },
  {
   "cell_type": "code",
   "execution_count": 114,
   "metadata": {},
   "outputs": [
    {
     "data": {
      "image/png": "[encoded data removed]",
      "text/plain": [
       "<matplotlib.figure.Figure at 0x23e2f4c6e10>"
      ]
     },
     "metadata": {},
     "output_type": "display_data"
    }
   ],
   "source": [
    "show_rmse(train_hist, 0)"
   ]
  },
  {
   "cell_type": "code",
   "execution_count": null,
   "metadata": {},
   "outputs": [],
   "source": []
  }
 ],
 "metadata": {
  "kernelspec": {
   "display_name": "Python 3",
   "language": "python",
   "name": "python3"
  },
  "language_info": {
   "codemirror_mode": {
    "name": "ipython",
    "version": 3
   },
   "file_extension": ".py",
   "mimetype": "text/x-python",
   "name": "python",
   "nbconvert_exporter": "python",
   "pygments_lexer": "ipython3",
   "version": "3.6.4"
  }
 },
 "nbformat": 4,
 "nbformat_minor": 2
}
